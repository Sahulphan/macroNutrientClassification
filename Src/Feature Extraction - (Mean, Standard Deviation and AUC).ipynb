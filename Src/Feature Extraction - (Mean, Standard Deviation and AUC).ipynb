{
 "cells": [
  {
   "cell_type": "code",
   "execution_count": 1,
   "metadata": {
    "collapsed": true
   },
   "outputs": [],
   "source": [
    "import matplotlib.pyplot as plt\n",
    "import scipy\n",
    "from scipy import stats\n",
    "import numpy as np\n",
    "import pandas as pd\n",
    "from __future__ import division\n",
    "from math import sqrt\n",
    "import os\n",
    "import glob\n",
    "import csv\n",
    "import statistics\n",
    "import calendar\n",
    "from datetime import datetime\n",
    "from sklearn import metrics"
   ]
  },
  {
   "cell_type": "code",
   "execution_count": 2,
   "metadata": {
    "scrolled": true
   },
   "outputs": [],
   "source": [
    "# Run this file within the directory which has all the csv data files. \n",
    "#It reads all the csv files within the directory and treats them to be input\n",
    "for csvfile in glob.glob(os.path.join('.', '*.csv')):\n",
    "    filename = csvfile[2:]\n",
    "    csv_input = pd.read_csv(filename)\n",
    "    #print(filename)\n",
    "    csv_input.columns = ['Timestamp','Glucose']\n",
    "    FeatureMean = csv_input['Glucose'].mean()\n",
    "    Featurestd = statistics.stdev(csv_input['Glucose'])\n",
    "    csv_input[\"Feature mean\"] = FeatureMean\n",
    "    csv_input[\"Feature std\"] = Featurestd\n",
    "    datetime_list= convertToUnix(csv_input['Timestamp'])\n",
    "    glucose = csv_input['Glucose']\n",
    "    FeatureAUC = sklearn.metrics.auc(datetime_list, glucose,reorder=True)\n",
    "    csv_input[\"Feature AUC\"] = FeatureAUC\n",
    "    csv_input.to_csv(\"features/\"+filename, index=False)"
   ]
  },
  {
   "cell_type": "code",
   "execution_count": 3,
   "metadata": {
    "collapsed": true
   },
   "outputs": [],
   "source": [
    "def convertToUnix(timelist):\n",
    "    datetime_list=[]\n",
    "    for t in range(len(timelist)):\n",
    "        #print(timelist[t])\n",
    "        datetime_object = datetime.strptime(timelist[t], '%Y-%m-%d  %H:%M:%S')\n",
    "        timestamp=calendar.timegm(datetime_object.utctimetuple())\n",
    "        datetime_list.append(timestamp)\n",
    "    return datetime_list"
   ]
  },
  {
   "cell_type": "code",
   "execution_count": null,
   "metadata": {
    "collapsed": true
   },
   "outputs": [],
   "source": []
  }
 ],
 "metadata": {
  "kernelspec": {
   "display_name": "Python 3",
   "language": "python",
   "name": "python3"
  },
  "language_info": {
   "codemirror_mode": {
    "name": "ipython",
    "version": 3
   },
   "file_extension": ".py",
   "mimetype": "text/x-python",
   "name": "python",
   "nbconvert_exporter": "python",
   "pygments_lexer": "ipython3",
   "version": "3.6.3"
  }
 },
 "nbformat": 4,
 "nbformat_minor": 2
}
