{
 "cells": [
  {
   "cell_type": "code",
   "execution_count": 3,
   "metadata": {
    "collapsed": true
   },
   "outputs": [],
   "source": [
    "import matplotlib.pyplot as plt\n",
    "import scipy\n",
    "from scipy import stats\n",
    "import numpy as np\n",
    "import pandas as pd\n",
    "from __future__ import division\n",
    "from math import sqrt\n",
    "import os\n",
    "import fnmatch\n",
    "import glob\n",
    "import csv\n",
    "import statistics\n",
    "import calendar\n",
    "from datetime import datetime\n",
    "from sklearn import metrics"
   ]
  },
  {
   "cell_type": "code",
   "execution_count": 4,
   "metadata": {
    "collapsed": true
   },
   "outputs": [],
   "source": [
    "def convertToUnix(timelist):\n",
    "    datetime_list=[]\n",
    "    for t in range(len(timelist)):\n",
    "        #print(timelist[t])\n",
    "        datetime_object = datetime.strptime(timelist[t], '%Y-%m-%d  %H:%M:%S')\n",
    "        timestamp=calendar.timegm(datetime_object.utctimetuple())\n",
    "        datetime_list.append(timestamp)\n",
    "    return datetime_list"
   ]
  },
  {
   "cell_type": "code",
   "execution_count": 6,
   "metadata": {},
   "outputs": [],
   "source": [
    "# Run this file within the directory which has all the csv data files. \n",
    "#It reads all the csv files within the directory and treats them to be input\n",
    "for csvfile in glob.glob(os.path.join('/home/sahulphaniraj/csce633-ml/MachineLearningProject/Dataset/PlosJournalData/Features-peak-halfpk-tail/', '*.csv')):\n",
    "    filename = csvfile\n",
    "    csv_input = pd.read_csv(filename)\n",
    "    FeaturePeak = csv_input['Glucose'].max()\n",
    "    csv_input[\"FeaturePeak\"] = FeaturePeak    \n",
    "    datetime_list= convertToUnix(csv_input['Timestamp'])\n",
    "    csv_input[\"timeinsec\"] = datetime_list\n",
    "    MaxIndex = csv_input['Glucose'].idxmax(0)\n",
    "    csv_input[\"MaxIndex\"] = MaxIndex\n",
    "    #bandwidth_list= BwTime(csv_input['timeinsec'],csv_input['Glucose'],FeaturePeak,MaxIndex)\n",
    "    #csv_input[\"BandwidthTime\"] = bandwidth_list\n",
    "    csv_input.to_csv(filename, index=False) #write to file\n",
    "    #print(csv_input)\n",
    "    "
   ]
  },
  {
   "cell_type": "code",
   "execution_count": 12,
   "metadata": {
    "collapsed": true
   },
   "outputs": [],
   "source": [
    "#calculate BW (0.707*Max)\n",
    "def BwTime(timelist,cgmlist,maxvalue,MaxIndex):\n",
    "    threshold_val = 0.707*maxvalue\n",
    "    size = len(cgmlist) \n",
    "    index = MaxIndex\n",
    "    for d in range(size):\n",
    "        index-=1\n",
    "        print(index)\n",
    "        print(cgmlist[index])\n",
    "        if(cgmlist[index] < threshold_val):\n",
    "            bandwidth_lower = timelist[index]\n",
    "            break\n",
    "    index = MaxIndex\n",
    "    for d in range(size):\n",
    "        index+=1\n",
    "        if(cgmlist[index] < threshold_val):\n",
    "            bandwidth_upper = timelist[index]\n",
    "            break\n",
    "    bw_time = bandwidth_upper - bandwidth_lower       \n",
    "    return bw_time"
   ]
  },
  {
   "cell_type": "code",
   "execution_count": 13,
   "metadata": {},
   "outputs": [
    {
     "name": "stdout",
     "output_type": "stream",
     "text": [
      "26\n",
      "106\n",
      "25\n",
      "104\n",
      "24\n",
      "103\n",
      "23\n",
      "101\n",
      "22\n",
      "98\n",
      "21\n",
      "95\n",
      "20\n",
      "95\n",
      "19\n",
      "94\n",
      "18\n",
      "91\n",
      "17\n",
      "92\n",
      "16\n",
      "96\n",
      "15\n",
      "102\n",
      "14\n",
      "105\n",
      "13\n",
      "101\n",
      "12\n",
      "95\n",
      "11\n",
      "89\n",
      "10\n",
      "85\n",
      "9\n",
      "83\n",
      "8\n",
      "82\n",
      "7\n",
      "83\n",
      "6\n",
      "83\n",
      "5\n",
      "84\n",
      "4\n",
      "88\n",
      "3\n",
      "94\n",
      "2\n",
      "95\n",
      "1\n",
      "97\n",
      "0\n",
      "98\n",
      "-1\n"
     ]
    },
    {
     "ename": "KeyError",
     "evalue": "-1",
     "output_type": "error",
     "traceback": [
      "\u001b[0;31m---------------------------------------------------------------------------\u001b[0m",
      "\u001b[0;31mKeyError\u001b[0m                                  Traceback (most recent call last)",
      "\u001b[0;32m<ipython-input-13-b6b2a96301b5>\u001b[0m in \u001b[0;36m<module>\u001b[0;34m()\u001b[0m\n\u001b[1;32m      3\u001b[0m \u001b[0;31m#FeaturePeak\u001b[0m\u001b[0;34m\u001b[0m\u001b[0;34m\u001b[0m\u001b[0m\n\u001b[1;32m      4\u001b[0m \u001b[0;31m#MaxIndex\u001b[0m\u001b[0;34m\u001b[0m\u001b[0;34m\u001b[0m\u001b[0m\n\u001b[0;32m----> 5\u001b[0;31m \u001b[0mbandwidth_list\u001b[0m\u001b[0;34m=\u001b[0m \u001b[0mBwTime\u001b[0m\u001b[0;34m(\u001b[0m\u001b[0mcsv_input\u001b[0m\u001b[0;34m[\u001b[0m\u001b[0;34m'timeinsec'\u001b[0m\u001b[0;34m]\u001b[0m\u001b[0;34m,\u001b[0m\u001b[0mcsv_input\u001b[0m\u001b[0;34m[\u001b[0m\u001b[0;34m'Glucose'\u001b[0m\u001b[0;34m]\u001b[0m\u001b[0;34m,\u001b[0m\u001b[0mFeaturePeak\u001b[0m\u001b[0;34m,\u001b[0m\u001b[0mMaxIndex\u001b[0m\u001b[0;34m)\u001b[0m\u001b[0;34m\u001b[0m\u001b[0m\n\u001b[0m",
      "\u001b[0;32m<ipython-input-12-e816bad8f427>\u001b[0m in \u001b[0;36mBwTime\u001b[0;34m(timelist, cgmlist, maxvalue, MaxIndex)\u001b[0m\n\u001b[1;32m      7\u001b[0m         \u001b[0mindex\u001b[0m\u001b[0;34m-=\u001b[0m\u001b[0;36m1\u001b[0m\u001b[0;34m\u001b[0m\u001b[0m\n\u001b[1;32m      8\u001b[0m         \u001b[0mprint\u001b[0m\u001b[0;34m(\u001b[0m\u001b[0mindex\u001b[0m\u001b[0;34m)\u001b[0m\u001b[0;34m\u001b[0m\u001b[0m\n\u001b[0;32m----> 9\u001b[0;31m         \u001b[0mprint\u001b[0m\u001b[0;34m(\u001b[0m\u001b[0mcgmlist\u001b[0m\u001b[0;34m[\u001b[0m\u001b[0mindex\u001b[0m\u001b[0;34m]\u001b[0m\u001b[0;34m)\u001b[0m\u001b[0;34m\u001b[0m\u001b[0m\n\u001b[0m\u001b[1;32m     10\u001b[0m         \u001b[0;32mif\u001b[0m\u001b[0;34m(\u001b[0m\u001b[0mcgmlist\u001b[0m\u001b[0;34m[\u001b[0m\u001b[0mindex\u001b[0m\u001b[0;34m]\u001b[0m \u001b[0;34m<\u001b[0m \u001b[0mthreshold_val\u001b[0m\u001b[0;34m)\u001b[0m\u001b[0;34m:\u001b[0m\u001b[0;34m\u001b[0m\u001b[0m\n\u001b[1;32m     11\u001b[0m             \u001b[0mbandwidth_lower\u001b[0m \u001b[0;34m=\u001b[0m \u001b[0mtimelist\u001b[0m\u001b[0;34m[\u001b[0m\u001b[0mindex\u001b[0m\u001b[0;34m]\u001b[0m\u001b[0;34m\u001b[0m\u001b[0m\n",
      "\u001b[0;32m~/anaconda/lib/python3.6/site-packages/pandas/core/series.py\u001b[0m in \u001b[0;36m__getitem__\u001b[0;34m(self, key)\u001b[0m\n\u001b[1;32m    599\u001b[0m         \u001b[0mkey\u001b[0m \u001b[0;34m=\u001b[0m \u001b[0mcom\u001b[0m\u001b[0;34m.\u001b[0m\u001b[0m_apply_if_callable\u001b[0m\u001b[0;34m(\u001b[0m\u001b[0mkey\u001b[0m\u001b[0;34m,\u001b[0m \u001b[0mself\u001b[0m\u001b[0;34m)\u001b[0m\u001b[0;34m\u001b[0m\u001b[0m\n\u001b[1;32m    600\u001b[0m         \u001b[0;32mtry\u001b[0m\u001b[0;34m:\u001b[0m\u001b[0;34m\u001b[0m\u001b[0m\n\u001b[0;32m--> 601\u001b[0;31m             \u001b[0mresult\u001b[0m \u001b[0;34m=\u001b[0m \u001b[0mself\u001b[0m\u001b[0;34m.\u001b[0m\u001b[0mindex\u001b[0m\u001b[0;34m.\u001b[0m\u001b[0mget_value\u001b[0m\u001b[0;34m(\u001b[0m\u001b[0mself\u001b[0m\u001b[0;34m,\u001b[0m \u001b[0mkey\u001b[0m\u001b[0;34m)\u001b[0m\u001b[0;34m\u001b[0m\u001b[0m\n\u001b[0m\u001b[1;32m    602\u001b[0m \u001b[0;34m\u001b[0m\u001b[0m\n\u001b[1;32m    603\u001b[0m             \u001b[0;32mif\u001b[0m \u001b[0;32mnot\u001b[0m \u001b[0mis_scalar\u001b[0m\u001b[0;34m(\u001b[0m\u001b[0mresult\u001b[0m\u001b[0;34m)\u001b[0m\u001b[0;34m:\u001b[0m\u001b[0;34m\u001b[0m\u001b[0m\n",
      "\u001b[0;32m~/anaconda/lib/python3.6/site-packages/pandas/core/indexes/base.py\u001b[0m in \u001b[0;36mget_value\u001b[0;34m(self, series, key)\u001b[0m\n\u001b[1;32m   2475\u001b[0m         \u001b[0;32mtry\u001b[0m\u001b[0;34m:\u001b[0m\u001b[0;34m\u001b[0m\u001b[0m\n\u001b[1;32m   2476\u001b[0m             return self._engine.get_value(s, k,\n\u001b[0;32m-> 2477\u001b[0;31m                                           tz=getattr(series.dtype, 'tz', None))\n\u001b[0m\u001b[1;32m   2478\u001b[0m         \u001b[0;32mexcept\u001b[0m \u001b[0mKeyError\u001b[0m \u001b[0;32mas\u001b[0m \u001b[0me1\u001b[0m\u001b[0;34m:\u001b[0m\u001b[0;34m\u001b[0m\u001b[0m\n\u001b[1;32m   2479\u001b[0m             \u001b[0;32mif\u001b[0m \u001b[0mlen\u001b[0m\u001b[0;34m(\u001b[0m\u001b[0mself\u001b[0m\u001b[0;34m)\u001b[0m \u001b[0;34m>\u001b[0m \u001b[0;36m0\u001b[0m \u001b[0;32mand\u001b[0m \u001b[0mself\u001b[0m\u001b[0;34m.\u001b[0m\u001b[0minferred_type\u001b[0m \u001b[0;32min\u001b[0m \u001b[0;34m[\u001b[0m\u001b[0;34m'integer'\u001b[0m\u001b[0;34m,\u001b[0m \u001b[0;34m'boolean'\u001b[0m\u001b[0;34m]\u001b[0m\u001b[0;34m:\u001b[0m\u001b[0;34m\u001b[0m\u001b[0m\n",
      "\u001b[0;32mpandas/_libs/index.pyx\u001b[0m in \u001b[0;36mpandas._libs.index.IndexEngine.get_value\u001b[0;34m()\u001b[0m\n",
      "\u001b[0;32mpandas/_libs/index.pyx\u001b[0m in \u001b[0;36mpandas._libs.index.IndexEngine.get_value\u001b[0;34m()\u001b[0m\n",
      "\u001b[0;32mpandas/_libs/index.pyx\u001b[0m in \u001b[0;36mpandas._libs.index.IndexEngine.get_loc\u001b[0;34m()\u001b[0m\n",
      "\u001b[0;32mpandas/_libs/hashtable_class_helper.pxi\u001b[0m in \u001b[0;36mpandas._libs.hashtable.Int64HashTable.get_item\u001b[0;34m()\u001b[0m\n",
      "\u001b[0;32mpandas/_libs/hashtable_class_helper.pxi\u001b[0m in \u001b[0;36mpandas._libs.hashtable.Int64HashTable.get_item\u001b[0;34m()\u001b[0m\n",
      "\u001b[0;31mKeyError\u001b[0m: -1"
     ]
    }
   ],
   "source": [
    "#csv_input['Glucose']\n",
    "#csv_input['timeinsec']\n",
    "#FeaturePeak\n",
    "#MaxIndex\n",
    "bandwidth_list= BwTime(csv_input['timeinsec'],csv_input['Glucose'],FeaturePeak,MaxIndex)\n"
   ]
  },
  {
   "cell_type": "raw",
   "metadata": {},
   "source": []
  },
  {
   "cell_type": "code",
   "execution_count": null,
   "metadata": {
    "collapsed": true
   },
   "outputs": [],
   "source": []
  },
  {
   "cell_type": "code",
   "execution_count": null,
   "metadata": {
    "collapsed": true
   },
   "outputs": [],
   "source": []
  },
  {
   "cell_type": "code",
   "execution_count": null,
   "metadata": {
    "collapsed": true
   },
   "outputs": [],
   "source": []
  },
  {
   "cell_type": "code",
   "execution_count": null,
   "metadata": {
    "collapsed": true
   },
   "outputs": [],
   "source": []
  },
  {
   "cell_type": "code",
   "execution_count": null,
   "metadata": {
    "collapsed": true
   },
   "outputs": [],
   "source": [
    "#calculate BW (0.707*Max)\n",
    "def BwTime(timeinsec,cgmlist,maxvalue,MaxIndex):\n",
    "    threshold_val = 0.707*maxvalue\n",
    "    size = len(cgmlist) \n",
    "    index = MaxIndex\n",
    "    for d in range(size):\n",
    "        index-=1\n",
    "        if(csv_input['Glucose'][index] < threshold_val):\n",
    "            bandwidth_lower = csv_input['timeinsec'][index]\n",
    "            break\n",
    "    index = MaxIndex\n",
    "    for d in range(size):\n",
    "        index+=1\n",
    "        if(csv_input['Glucose'][index] < threshold_val):\n",
    "            bandwidth_upper = csv_input['timeinsec'][index]\n",
    "            break\n",
    "    bw_time = bandwidth_upper - bandwidth_lower       \n",
    "    return bw_time"
   ]
  },
  {
   "cell_type": "code",
   "execution_count": 11,
   "metadata": {},
   "outputs": [
    {
     "data": {
      "text/plain": [
       "0"
      ]
     },
     "execution_count": 11,
     "metadata": {},
     "output_type": "execute_result"
    }
   ],
   "source": [
    "a=[1,2,3]\n",
    "a.index(1)"
   ]
  },
  {
   "cell_type": "code",
   "execution_count": null,
   "metadata": {
    "collapsed": true
   },
   "outputs": [],
   "source": []
  },
  {
   "cell_type": "code",
   "execution_count": null,
   "metadata": {
    "collapsed": true
   },
   "outputs": [],
   "source": []
  },
  {
   "cell_type": "code",
   "execution_count": null,
   "metadata": {
    "collapsed": true
   },
   "outputs": [],
   "source": []
  },
  {
   "cell_type": "code",
   "execution_count": null,
   "metadata": {
    "collapsed": true
   },
   "outputs": [],
   "source": []
  },
  {
   "cell_type": "code",
   "execution_count": null,
   "metadata": {
    "collapsed": true
   },
   "outputs": [],
   "source": []
  },
  {
   "cell_type": "code",
   "execution_count": null,
   "metadata": {
    "collapsed": true
   },
   "outputs": [],
   "source": []
  },
  {
   "cell_type": "code",
   "execution_count": null,
   "metadata": {
    "collapsed": true
   },
   "outputs": [],
   "source": []
  },
  {
   "cell_type": "code",
   "execution_count": null,
   "metadata": {
    "collapsed": true
   },
   "outputs": [],
   "source": []
  },
  {
   "cell_type": "code",
   "execution_count": null,
   "metadata": {
    "collapsed": true
   },
   "outputs": [],
   "source": []
  },
  {
   "cell_type": "code",
   "execution_count": 2,
   "metadata": {
    "collapsed": true,
    "scrolled": true
   },
   "outputs": [],
   "source": [
    "# Run this file within the directory which has all the csv data files. \n",
    "#It reads all the csv files within the directory and treats them to be input\n",
    "for csvfile in glob.glob(os.path.join('.', '*.csv')):\n",
    "    filename = csvfile[2:]\n",
    "    csv_input = pd.read_csv(filename)\n",
    "    #print(filename)\n",
    "    csv_input.columns = ['Timestamp','Glucose']\n",
    "    FeatureMean = csv_input['Glucose'].mean()\n",
    "    Featurestd = statistics.stdev(csv_input['Glucose'])\n",
    "    csv_input[\"Feature mean\"] = FeatureMean\n",
    "    csv_input[\"Feature std\"] = Featurestd\n",
    "    datetime_list= convertToUnix(csv_input['Timestamp'])\n",
    "    glucose = csv_input['Glucose']\n",
    "    FeatureAUC = sklearn.metrics.auc(datetime_list, glucose,reorder=True)\n",
    "    csv_input[\"Feature AUC\"] = FeatureAUC\n",
    "    csv_input.to_csv(\"features/\"+filename, index=False)"
   ]
  },
  {
   "cell_type": "code",
   "execution_count": 3,
   "metadata": {
    "collapsed": true
   },
   "outputs": [],
   "source": [
    "def convertToUnix(timelist):\n",
    "    datetime_list=[]\n",
    "    for t in range(len(timelist)):\n",
    "        #print(timelist[t])\n",
    "        datetime_object = datetime.strptime(timelist[t], '%Y-%m-%d  %H:%M:%S')\n",
    "        timestamp=calendar.timegm(datetime_object.utctimetuple())\n",
    "        datetime_list.append(timestamp)\n",
    "    return datetime_list"
   ]
  },
  {
   "cell_type": "code",
   "execution_count": null,
   "metadata": {
    "collapsed": true
   },
   "outputs": [],
   "source": []
  }
 ],
 "metadata": {
  "kernelspec": {
   "display_name": "Python 3",
   "language": "python",
   "name": "python3"
  },
  "language_info": {
   "codemirror_mode": {
    "name": "ipython",
    "version": 3
   },
   "file_extension": ".py",
   "mimetype": "text/x-python",
   "name": "python",
   "nbconvert_exporter": "python",
   "pygments_lexer": "ipython3",
   "version": "3.6.3"
  }
 },
 "nbformat": 4,
 "nbformat_minor": 2
}
